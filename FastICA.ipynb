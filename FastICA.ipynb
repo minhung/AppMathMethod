{
 "metadata": {
  "name": "",
  "signature": "sha256:ce30df51eded6df05bf23b70dc8d651e8ee5636c2b776557e97d05a5095d5d9e"
 },
 "nbformat": 3,
 "nbformat_minor": 0,
 "worksheets": [
  {
   "cells": [
    {
     "cell_type": "markdown",
     "metadata": {},
     "source": [
      "#A simple FastICA example\n",
      "[A simple FastICA example](http://www.endolith.com/wordpress/2009/11/22/a-simple-fastica-example/)"
     ]
    },
    {
     "cell_type": "markdown",
     "metadata": {},
     "source": [
      "sudo apt-get install python-mdp\n",
      "\n",
      "sudo apt-get install python-dev python-numpy python-setuptools libsndfile-dev\n"
     ]
    },
    {
     "cell_type": "code",
     "collapsed": false,
     "input": [
      "from mdp import fastica\n",
      "from scikits.audiolab import flacread, flacwrite\n",
      "from numpy import abs, max\n",
      " \n",
      "# Load in the stereo file\n",
      "recording, fs, enc = flacread('mix.flac')\n",
      " \n",
      "# Perform FastICA algorithm on the two channels\n",
      "sources = fastica(recording)\n",
      " \n",
      "# The output levels of this algorithm are arbitrary, so normalize them to 1.0.\n",
      "sources /= max(abs(sources), axis = 0)\n",
      " \n",
      "# Write back to a file\n",
      "flacwrite(sources, 'sources.flac', fs, enc)\n"
     ],
     "language": "python",
     "metadata": {},
     "outputs": [
      {
       "ename": "ValueError",
       "evalue": "operands could not be broadcast together with shapes (882000,2) (882000) (882000,2) ",
       "output_type": "pyerr",
       "traceback": [
        "\u001b[1;31m---------------------------------------------------------------------------\u001b[0m\n\u001b[1;31mValueError\u001b[0m                                Traceback (most recent call last)",
        "\u001b[1;32m<ipython-input-4-463a379f0add>\u001b[0m in \u001b[0;36m<module>\u001b[1;34m()\u001b[0m\n\u001b[0;32m     10\u001b[0m \u001b[1;33m\u001b[0m\u001b[0m\n\u001b[0;32m     11\u001b[0m \u001b[1;31m# The output levels of this algorithm are arbitrary, so normalize them to 1.0.\u001b[0m\u001b[1;33m\u001b[0m\u001b[1;33m\u001b[0m\u001b[0m\n\u001b[1;32m---> 12\u001b[1;33m \u001b[0msources\u001b[0m \u001b[1;33m/=\u001b[0m \u001b[0mmax\u001b[0m\u001b[1;33m(\u001b[0m\u001b[0mabs\u001b[0m\u001b[1;33m(\u001b[0m\u001b[0msources\u001b[0m\u001b[1;33m)\u001b[0m\u001b[1;33m,\u001b[0m \u001b[0maxis\u001b[0m \u001b[1;33m=\u001b[0m \u001b[1;36m1\u001b[0m\u001b[1;33m)\u001b[0m\u001b[1;33m\u001b[0m\u001b[0m\n\u001b[0m\u001b[0;32m     13\u001b[0m \u001b[1;33m\u001b[0m\u001b[0m\n\u001b[0;32m     14\u001b[0m \u001b[1;31m# Write back to a file\u001b[0m\u001b[1;33m\u001b[0m\u001b[1;33m\u001b[0m\u001b[0m\n",
        "\u001b[1;31mValueError\u001b[0m: operands could not be broadcast together with shapes (882000,2) (882000) (882000,2) "
       ]
      }
     ],
     "prompt_number": 4
    },
    {
     "cell_type": "code",
     "collapsed": false,
     "input": [],
     "language": "python",
     "metadata": {},
     "outputs": []
    }
   ],
   "metadata": {}
  }
 ]
}
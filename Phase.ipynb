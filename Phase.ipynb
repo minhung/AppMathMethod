{
 "metadata": {
  "name": "",
  "signature": "sha256:62935e0ec0e06a306a4bd83c5b986dae7f75002a1d664d5b5fb8bbb379496b60"
 },
 "nbformat": 3,
 "nbformat_minor": 0,
 "worksheets": [
  {
   "cells": [
    {
     "cell_type": "markdown",
     "metadata": {},
     "source": [
      "\u9019\u500bnote\u662f\u4ee5scipy\u89e3\u7c21\u55ae\u7684\u5fae\u5206\u65b9\u7a0b\u3002\u8003\u616e\u7684\u65b9\u7a0b\u5f0f\u662f\uff1a\n",
      "\\begin{eqnarray}\n",
      "\\frac{d}{dt} x &=& y\\\\\n",
      "\\frac{d}{dt} y &=& -\\frac{k}{m} x+F_f,\\\\\n",
      "\\end{eqnarray}\n",
      "\n",
      "$$\n",
      "F_f =\\left\\{\n",
      "\\begin{array}{rl}\n",
      "\\gamma & \\textrm{if } y=\\frac{dx}{dt}<0\\\\\n",
      "-\\gamma& \\textrm{if } y=\\frac{dx}{dt}>0\\\\                               \n",
      "\\end{array}\n",
      "\\right.\n",
      "$$\n",
      "\u6211\u5011\u4e3b\u8981\u662f\u4ee5odeint\u5c0d\u4e00\u968e\u5fae\u5206\u65b9\u7a0b\u7cfb\u7d71\u7a4d\u5206\uff0c\u5728\u9032\u5165\u6b63\u984c\u4e4b\u524d\u6211\u5011\u5148\u5f15\u5165\u9700\u8981\u7684\u5e7e\u500b\u6a21\u7d44\uff0c\u5176\u4e2dmatplotlib\u662f\u5c07\u6700\u5f8c\u5f97\u5230\u7684\u7d50\u679c\u756b\u51fa\u4f86\u7684\u6a21\u7d44\u6700\u5f8c\u5f97\u5230\u7684\u7d50\u679c\u756b\u51fa\u4f86\u7684\u6a21\u7d44\uff0c\u540c\u6642 \"%matplotlib inline\" \u53ef\u4ee5\u5c07\u5716\u5d4c\u5165ipython notebbok\u4e2d\uff1bnumpy\u5247\u662f\u6578\u503c\u8a08\u7b97\u9700\u8981\u7684\u6a21\u7d44\u3002"
     ]
    },
    {
     "cell_type": "code",
     "collapsed": false,
     "input": [
      "from scipy.integrate import odeint\n",
      "import matplotlib.pyplot as plt\n",
      "import numpy as np\n",
      "%matplotlib inline"
     ],
     "language": "python",
     "metadata": {},
     "outputs": [],
     "prompt_number": 4
    },
    {
     "cell_type": "markdown",
     "metadata": {},
     "source": [
      "\u5e95\u4e0b\u662f\u4e3b\u8981\u7a0b\u5f0f\uff0c\u4e00\u958b\u59cb\u6211\u5011\u5148\u8ce6\u4e88\u53c3\u6578\u503c\uff0c\u63a5\u8457\u5b9a\u7fa9\u4e00\u968e\u5fae\u5206\u65b9\u7a0b\u7cfb\u7d71\n",
      "$$\\frac{d}{dt} u =f(u,t)$$\n",
      "\u5b9a\u7fa9\u65b9\u5f0f\u662f\u4ee5 def \u5b9a\u7fa9\u51fd\u6578 $f(u,t)$\uff0c\u6ce8\u610f\u51fd\u6578\u50b3\u56de\u503c\u7684\u90e8\u4efd\"return [dxdt,dydt]\"\n",
      "\n",
      "\u5728\u6578\u503c\u6c42\u89e3\u6642\uff0codeint\u9700\u7d66\u4e88\u5fae\u5206\u65b9\u7a0b\u7cfb\u7d71\u7684\u51fd\u6578\u4e88\u5fae\u5206\u65b9\u7a0b\u7cfb\u7d71\u7684\u51fd\u6578(system)\u3001\u521d\u59cb\u503c\u3001\u521d\u59cb\u503c([x0,y0]))\u3001\u4ee5\u53ca\u6b32\u89e3\u7684\u6642\u9593\u9ede(t)\u3002"
     ]
    },
    {
     "cell_type": "code",
     "collapsed": false,
     "input": [
      "m = 1.0\n",
      "k = 2.0\n",
      "gamma = 0.1\n",
      "\n",
      "def system(z,t):\n",
      "    x,y=z[0],z[1]\n",
      "    Ff = 0.\n",
      "    if y > 0.0:\n",
      "        Ff = -gamma\n",
      "    elif y<0.0:\n",
      "        Ff = gamma\n",
      "    else:\n",
      "        Ff = 0.0\n",
      "        \n",
      "    dxdt= y\n",
      "    dydt=-k/m*x+Ff/m\n",
      "    return [dxdt,dydt]\n",
      "time_lth = 10001\n",
      "t=np.linspace(0,15,time_lth)\n",
      "dt = 15./(time_lth-1)\n",
      "myx = np.zeros(time_lth)\n",
      "myy = np.zeros(time_lth)\n",
      "x0,y0=0.0,1.2\n",
      "\n",
      "myx[0]=x0\n",
      "myy[0]=y0\n",
      "#sol=odeint(system,[x0,y0],t,hmax=1./10000)\n",
      "for i in range(0,time_lth-1):\n",
      "    xtmp,ytmp = system([myx[i],myy[i]],t[i])\n",
      "    myx[i+1] = myx[i]+dt*xtmp\n",
      "    myy[i+1] = myy[i]+dt*ytmp   \n"
     ],
     "language": "python",
     "metadata": {},
     "outputs": [],
     "prompt_number": 5
    },
    {
     "cell_type": "raw",
     "metadata": {},
     "source": [
      "\u5e95\u4e0b\u9019\u500bcell\u5728\u8a08\u7b97\u6703\u7d93\u904e\u539f\u9ede\u5e7e\u6b21\uff0c\u70ba\u4e86\u65b9\u4fbf\u8d77\u898b\uff0c\u6211\u628a\u6700\u5f8c\u505c\u5728\u539f\u9ede\u4e5f\u7b97\u4e00\u6b21"
     ]
    },
    {
     "cell_type": "code",
     "collapsed": false,
     "input": [
      "xs = [np.sqrt(m*y0**2/k+gamma**2/k**2)-gamma/k]\n",
      "Or = gamma / k\n",
      "Ol = -gamma /k\n",
      "flag = 1\n",
      "i =0 \n",
      "while flag != 0:   \n",
      "    if i %2 ==0:\n",
      "        O = Or\n",
      "    else:\n",
      "        O=Ol\n",
      "        \n",
      "    xn = 2.0*O-xs[i]\n",
      "    i = i+1\n",
      "    xs.append(xn)\n",
      "    if xn > 0:\n",
      "        newflag = 1\n",
      "    elif xn <0:\n",
      "        newflag = -1\n",
      "    else:\n",
      "        newflag = 0\n",
      "   \n",
      "    if flag * newflag >=0:\n",
      "        flag = 0\n",
      "    else:\n",
      "        flag = newflag\n",
      "    \n",
      "print xs\n",
      "print xs[2]-xs[0],Or-Ol\n",
      "print \"Cross\",i-1,\"times\"\n",
      "print xs[0]*k/(2.0*gamma),\">=\",i-1,\">\",xs[0]*k/(2.0*gamma)-1\n",
      "#print np.sqrt(m*y0**2/k+gamma**2/k**2)*k/(2.0*gamma)-1/2,xs[0]*k/(2.0*gamma)-1\n",
      "ys = [0]*(i+1)\n",
      "print ys"
     ],
     "language": "python",
     "metadata": {},
     "outputs": [
      {
       "output_type": "stream",
       "stream": "stdout",
       "text": [
        "[0.79999999999999993, -0.69999999999999996, 0.59999999999999998, -0.5, 0.40000000000000002, -0.30000000000000004, 0.20000000000000004, -0.10000000000000003, 2.7755575615628914e-17, 0.099999999999999978]\n",
        "-0.2 0.1\n",
        "Cross 8 times\n",
        "8.0 >= 8 > 7.0\n",
        "[0, 0, 0, 0, 0, 0, 0, 0, 0, 0]\n"
       ]
      }
     ],
     "prompt_number": 6
    },
    {
     "cell_type": "markdown",
     "metadata": {},
     "source": [
      "\u5e95\u4e0b\u662f\u4ee5matplotlib\u5c07\u5f97\u5230\u7684\u6578\u503c\u89e3\u532f\u51fa\uff0c\u9996\u5148\u662f\u5728\u76f8\u5e73\u9762\u4f5c\u5716\uff1a"
     ]
    },
    {
     "cell_type": "code",
     "collapsed": false,
     "input": [
      "#X,Y=sol[:,0],sol[:,1]\n",
      "X = myx\n",
      "Y = myy\n",
      "plt.plot(X,Y)\n",
      "plt.plot(xs,ys,'o')\n",
      "plt.show() "
     ],
     "language": "python",
     "metadata": {},
     "outputs": [
      {
       "metadata": {},
       "output_type": "display_data",
       "png": "[encoded data removed]",
       "text": [
        "<matplotlib.figure.Figure at 0x29a2e90>"
       ]
      }
     ],
     "prompt_number": 7
    },
    {
     "cell_type": "markdown",
     "metadata": {},
     "source": [
      "\u5e95\u4e0b\u662fx\u3001y\u5c0dt\u4f5c\u5716\uff0c\u5176\u4e2dx\u7684\u5716\u5f62\u4ee5\u7d05\u8272(r)\u8868\u793a\uff0cy\u7684\u5716\u5f62\u4ee5\u85cd\u8272(b)\u8868\u793a\u3002"
     ]
    },
    {
     "cell_type": "code",
     "collapsed": false,
     "input": [
      "px, = plt.plot(t,X,'r-')\n",
      "py, = plt.plot(t,Y,'b-')\n",
      "plt.xlabel(\"t\")   \n",
      "plt.ylabel(\"x,y\") \n",
      "plt.ylim(-2, 2)\n",
      "plt.legend([px,py],[\"x\",\"y\"])\n",
      "plt.show()\n",
      "print max(Y),max(X)"
     ],
     "language": "python",
     "metadata": {},
     "outputs": [
      {
       "metadata": {},
       "output_type": "display_data",
       "png": "[encoded data removed]",
       "text": [
        "<matplotlib.figure.Figure at 0x2a5bb50>"
       ]
      },
      {
       "output_type": "stream",
       "stream": "stdout",
       "text": [
        "1.2 0.801364570155\n"
       ]
      }
     ],
     "prompt_number": 8
    },
    {
     "cell_type": "markdown",
     "metadata": {},
     "source": [
      "<li>SciPy-\u6578\u503c\u8a08\u7b97\u5eab\uff1ahttp://myshare.dscloud.me/scipydoc/scipy_intro.html</li>\n",
      "<li>\u7e6a\u5716\u6307\u4ee4\u8acb\u53c3\u8003\uff1a http://onionys.blogspot.tw/2012/01/python-matplotlib.html</li>\n",
      "<li>\u66f4\u591a\u7684matplotlib\uff1a http://nbviewer.ipython.org/github/c3h3/NCCU-PyData-Courses-2013Spring/blob/master/Lecture4/visualization/BasicMatplotlib.ipynb</li>"
     ]
    },
    {
     "cell_type": "code",
     "collapsed": false,
     "input": [],
     "language": "python",
     "metadata": {},
     "outputs": [],
     "prompt_number": 8
    },
    {
     "cell_type": "code",
     "collapsed": false,
     "input": [],
     "language": "python",
     "metadata": {},
     "outputs": [],
     "prompt_number": 8
    },
    {
     "cell_type": "code",
     "collapsed": false,
     "input": [],
     "language": "python",
     "metadata": {},
     "outputs": [],
     "prompt_number": 8
    }
   ],
   "metadata": {}
  }
 ]
}
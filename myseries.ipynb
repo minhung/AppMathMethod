{
 "metadata": {
  "name": "",
  "signature": "sha256:eb940ae639080424cec4df49028873e919035142fdb6db20da05417d782acbce"
 },
 "nbformat": 3,
 "nbformat_minor": 0,
 "worksheets": [
  {
   "cells": [
    {
     "cell_type": "heading",
     "level": 1,
     "metadata": {},
     "source": [
      "Solution of an Example Problem in Perturbation Theory, Using Three Different Approaches in Sympy"
     ]
    },
    {
     "cell_type": "markdown",
     "metadata": {},
     "source": [
      "\u4ee5James Powell\u7684 <a href=http://www.math.usu.edu/powell/math5410/pertexample1.html>Solution of an Example Problem in Perturbation Theory, Using Three Different Approaches in Maple</a> \u70ba\u85cd\u672c\u6539\u5beb\u3002\u76f8\u95dc\u7684\u53c3\u8003\u8cc7\u6599\u8acb\u770b\u6700\u5e95\u4e0b\u7684\u9023\u7d50\u3002\n",
      "\n",
      "\u5728\u6c42\u89e3\u4e4b\u524d\uff0c\u6211\u5011\u5148\u8a2d\u5b9a\u986f\u793a\u74b0\u5883(sympy 0.7.4 \u7248\u5f8c\u53ef\u4ee5\u6709latex\u7684\u986f\u793a\u9078\u9805)\uff0c\u540c\u6642\u5f15\u5165\u5fc5\u8981\u7684\u6a21\u7d44\uff1a"
     ]
    },
    {
     "cell_type": "code",
     "collapsed": false,
     "input": [
      "import sympy\n",
      "if sympy.__version__ > \"0.7.4\":\n",
      "    from sympy.interactive import printing\n",
      "    printing.init_printing(use_latex=True)\n",
      "\n",
      "    from IPython.display import display\n",
      "\n",
      "from sympy import *\n",
      "from sympy.abc import t\n",
      "from sympy.solvers import solve"
     ],
     "language": "python",
     "metadata": {},
     "outputs": [],
     "prompt_number": 1
    },
    {
     "cell_type": "markdown",
     "metadata": {},
     "source": [
      "In this section we will use Sympy to generate a power series solution to the differential equation\n",
      "\n",
      " $$\\frac{\\partial^2}{\\partial t^2}u(t)-u(t) = \\epsilon t u(t),\\quad u(0)=1, u'(0)=-1.$$\n",
      "\n",
      "The first step will be to write a candidate solution (called y(t) below) as a polynomial in t with eight terms and unknown coefficients $a(j)$ for each power  $t^j$"
     ]
    },
    {
     "cell_type": "code",
     "collapsed": false,
     "input": [
      "eps = symbols('eps')\n",
      "deg = 8\n",
      "a = symarray('a',(deg))\n",
      "\n",
      "yt = sum( a[i] * t**i\n",
      "         for i in range(deg) )\n",
      "display(\"yt =\",yt)"
     ],
     "language": "python",
     "metadata": {},
     "outputs": [
      {
       "metadata": {},
       "output_type": "display_data",
       "text": [
        "'yt ='"
       ]
      },
      {
       "latex": [
        "$$a_{0} + a_{1} t + a_{2} t^{2} + a_{3} t^{3} + a_{4} t^{4} + a_{5} t^{5} + a_{6} t^{6} + a_{7} t^{7}$$"
       ],
       "metadata": {},
       "output_type": "display_data",
       "png": "[encoded data removed]",
       "text": [
        "                2       3       4       5       6       7\n",
        "a\u2080 + a\u2081\u22c5t + a\u2082\u22c5t  + a\u2083\u22c5t  + a\u2084\u22c5t  + a\u2085\u22c5t  + a\u2086\u22c5t  + a\u2087\u22c5t "
       ]
      }
     ],
     "prompt_number": 2
    },
    {
     "cell_type": "markdown",
     "metadata": {},
     "source": [
      "We now take calculate a derivative of y (just to see how it looks):"
     ]
    },
    {
     "cell_type": "code",
     "collapsed": false,
     "input": [
      "display(\"dydt =\",diff(yt,t))"
     ],
     "language": "python",
     "metadata": {},
     "outputs": [
      {
       "metadata": {},
       "output_type": "display_data",
       "text": [
        "'dydt ='"
       ]
      },
      {
       "latex": [
        "$$a_{1} + 2 a_{2} t + 3 a_{3} t^{2} + 4 a_{4} t^{3} + 5 a_{5} t^{4} + 6 a_{6} t^{5} + 7 a_{7} t^{6}$$"
       ],
       "metadata": {},
       "output_type": "display_data",
       "png": "[encoded data removed]",
       "text": [
        "                    2         3         4         5         6\n",
        "a\u2081 + 2\u22c5a\u2082\u22c5t + 3\u22c5a\u2083\u22c5t  + 4\u22c5a\u2084\u22c5t  + 5\u22c5a\u2085\u22c5t  + 6\u22c5a\u2086\u22c5t  + 7\u22c5a\u2087\u22c5t "
       ]
      }
     ],
     "prompt_number": 3
    },
    {
     "cell_type": "markdown",
     "metadata": {},
     "source": [
      "The differential equation is written all on the Left Hand Side and evaluated with the power series assumption for y(t), generating a complicated polynomial expression:"
     ]
    },
    {
     "cell_type": "code",
     "collapsed": false,
     "input": [
      "eq = diff(yt,t,t)-yt-eps*t*yt\n",
      "display(\"eq:\",eq)"
     ],
     "language": "python",
     "metadata": {},
     "outputs": [
      {
       "metadata": {},
       "output_type": "display_data",
       "text": [
        "'eq:'"
       ]
      },
      {
       "latex": [
        "$$- a_{0} - a_{1} t - a_{2} t^{2} - a_{3} t^{3} - a_{4} t^{4} - a_{5} t^{5} - a_{6} t^{6} - a_{7} t^{7} - eps t \\left(a_{0} + a_{1} t + a_{2} t^{2} + a_{3} t^{3} + a_{4} t^{4} + a_{5} t^{5} + a_{6} t^{6} + a_{7} t^{7}\\right) + 2 \\left(a_{2} + 3 a_{3} t + 6 a_{4} t^{2} + 10 a_{5} t^{3} + 15 a_{6} t^{4} + 21 a_{7} t^{5}\\right)$$"
       ],
       "metadata": {},
       "output_type": "display_data",
       "png": "[encoded data removed]",
       "text": [
        "                 2       3       4       5       6       7         \u239b          \n",
        "-a\u2080 - a\u2081\u22c5t - a\u2082\u22c5t  - a\u2083\u22c5t  - a\u2084\u22c5t  - a\u2085\u22c5t  - a\u2086\u22c5t  - a\u2087\u22c5t  - eps\u22c5t\u22c5\u239da\u2080 + a\u2081\u22c5t \n",
        "\n",
        "      2       3       4       5       6       7\u239e     \u239b                    2   \n",
        "+ a\u2082\u22c5t  + a\u2083\u22c5t  + a\u2084\u22c5t  + a\u2085\u22c5t  + a\u2086\u22c5t  + a\u2087\u22c5t \u23a0 + 2\u22c5\u239da\u2082 + 3\u22c5a\u2083\u22c5t + 6\u22c5a\u2084\u22c5t  + \n",
        "\n",
        "       3          4          5\u239e\n",
        "10\u22c5a\u2085\u22c5t  + 15\u22c5a\u2086\u22c5t  + 21\u22c5a\u2087\u22c5t \u23a0"
       ]
      }
     ],
     "prompt_number": 4
    },
    {
     "cell_type": "markdown",
     "metadata": {},
     "source": [
      "To get the leading order terms (coefficient of 1) we can simply substitute t=0 and save the resulting equation:"
     ]
    },
    {
     "cell_type": "code",
     "collapsed": false,
     "input": [
      "eq0 = eq.subs(t,0)\n",
      "print \"leading term:\",eq0"
     ],
     "language": "python",
     "metadata": {},
     "outputs": [
      {
       "output_type": "stream",
       "stream": "stdout",
       "text": [
        "leading term: -a_0 + 2*a_2\n"
       ]
      }
     ],
     "prompt_number": 5
    },
    {
     "cell_type": "markdown",
     "metadata": {},
     "source": [
      "Remember that a(0) and a(1) are fixed by the initial conditions, so we need to solve eq0 to find a(2):"
     ]
    },
    {
     "cell_type": "code",
     "collapsed": false,
     "input": [
      "a2 = solve(eq0,a[2])\n",
      "display(\"a_2 = \",a2[0])\n",
      "eqnew = poly(eq,t).subs(a[2],a2[0])\n",
      "asol = a\n",
      "asol[2] = a2[0]"
     ],
     "language": "python",
     "metadata": {},
     "outputs": [
      {
       "metadata": {},
       "output_type": "display_data",
       "text": [
        "'a_2 = '"
       ]
      },
      {
       "latex": [
        "$$\\frac{a_{0}}{2}$$"
       ],
       "metadata": {},
       "output_type": "display_data",
       "png": "[encoded data removed]",
       "text": [
        "a\u2080\n",
        "\u2500\u2500\n",
        "2 "
       ]
      }
     ],
     "prompt_number": 6
    },
    {
     "cell_type": "markdown",
     "metadata": {},
     "source": [
      "Now we are in a position to get the next equation. Here we do the it all in one step; eq1 is calculated by finding the coefficient of t to the first power in eq and then a(3) is defined to be the solution of that equation."
     ]
    },
    {
     "cell_type": "code",
     "collapsed": false,
     "input": [
      "eq1 = eqnew.as_expr().coeff(t)\n",
      "a3 = solve(eq1,a[3])\n",
      "display(\"a_3 = \",a3[0])\n",
      "eqnew = eqnew.subs(a[3],a3[0])\n",
      "asol[3] = a3[0]"
     ],
     "language": "python",
     "metadata": {},
     "outputs": [
      {
       "metadata": {},
       "output_type": "display_data",
       "text": [
        "'a_3 = '"
       ]
      },
      {
       "latex": [
        "$$\\frac{a_{0} eps}{6} + \\frac{a_{1}}{6}$$"
       ],
       "metadata": {},
       "output_type": "display_data",
       "png": "[encoded data removed]",
       "text": [
        "a\u2080\u22c5eps   a\u2081\n",
        "\u2500\u2500\u2500\u2500\u2500\u2500 + \u2500\u2500\n",
        "  6      6 "
       ]
      }
     ],
     "prompt_number": 7
    },
    {
     "cell_type": "markdown",
     "metadata": {},
     "source": [
      "At this point we can see what pattern of commands we need to give. We will now proceed to solve for the next four coefficients of powers of t by defining equations as coefficients of t and then solving for the next unknown a(j)."
     ]
    },
    {
     "cell_type": "code",
     "collapsed": false,
     "input": [
      "eq2 = eqnew.as_expr().coeff(t**2)  \n",
      "a4 = solve(eq2,a[4])\n",
      "display(\"a_4 = \",a4[0])\n",
      "eqnew = eqnew.subs(a[4],a4[0])\n",
      "asol[4] = a4[0]"
     ],
     "language": "python",
     "metadata": {},
     "outputs": [
      {
       "metadata": {},
       "output_type": "display_data",
       "text": [
        "'a_4 = '"
       ]
      },
      {
       "latex": [
        "$$\\frac{a_{0}}{24} + \\frac{a_{1} eps}{12}$$"
       ],
       "metadata": {},
       "output_type": "display_data",
       "png": "[encoded data removed]",
       "text": [
        "a\u2080   a\u2081\u22c5eps\n",
        "\u2500\u2500 + \u2500\u2500\u2500\u2500\u2500\u2500\n",
        "24     12  "
       ]
      }
     ],
     "prompt_number": 8
    },
    {
     "cell_type": "code",
     "collapsed": false,
     "input": [
      "eq3 = eqnew.as_expr().coeff(t**3)\n",
      "#print \"eq3:\",eq3\n",
      "a5 = solve(eq3,a[5])\n",
      "display(\"a_5 = \",a5[0])\n",
      "eqnew = eqnew.subs(a[5],a5[0])\n",
      "asol[5] = a5[0]\n"
     ],
     "language": "python",
     "metadata": {},
     "outputs": [
      {
       "metadata": {},
       "output_type": "display_data",
       "text": [
        "'a_5 = '"
       ]
      },
      {
       "latex": [
        "$$\\frac{a_{0} eps}{30} + \\frac{a_{1}}{120}$$"
       ],
       "metadata": {},
       "output_type": "display_data",
       "png": "[encoded data removed]",
       "text": [
        "a\u2080\u22c5eps    a\u2081\n",
        "\u2500\u2500\u2500\u2500\u2500\u2500 + \u2500\u2500\u2500\n",
        "  30     120"
       ]
      }
     ],
     "prompt_number": 9
    },
    {
     "cell_type": "code",
     "collapsed": false,
     "input": [
      "eq4 = eqnew.as_expr().coeff(t**4)\n",
      "a6 = solve(eq4,a[6])\n",
      "display(\"a_6 = \",a6[0])\n",
      "eqnew = eqnew.subs(a[6],a6[0])\n",
      "asol[6] = a6[0]"
     ],
     "language": "python",
     "metadata": {},
     "outputs": [
      {
       "metadata": {},
       "output_type": "display_data",
       "text": [
        "'a_6 = '"
       ]
      },
      {
       "latex": [
        "$$\\frac{a_{0} eps^{2}}{180} + \\frac{a_{0}}{720} + \\frac{a_{1} eps}{120}$$"
       ],
       "metadata": {},
       "output_type": "display_data",
       "png": "[encoded data removed]",
       "text": [
        "      2               \n",
        "a\u2080\u22c5eps     a\u2080   a\u2081\u22c5eps\n",
        "\u2500\u2500\u2500\u2500\u2500\u2500\u2500 + \u2500\u2500\u2500 + \u2500\u2500\u2500\u2500\u2500\u2500\n",
        "  180     720    120  "
       ]
      }
     ],
     "prompt_number": 10
    },
    {
     "cell_type": "code",
     "collapsed": false,
     "input": [
      "eq5 = eqnew.as_expr().coeff(t**5)\n",
      "a7 = solve(eq5,a[7])\n",
      "display(\"a_7 = \",a7[0])\n",
      "eqnew = eqnew.subs(a[7],a7[0])\n",
      "asol[7] = a7[0]   \n",
      "\n",
      "display(\"asol\",asol)"
     ],
     "language": "python",
     "metadata": {},
     "outputs": [
      {
       "metadata": {},
       "output_type": "display_data",
       "text": [
        "'a_7 = '"
       ]
      },
      {
       "latex": [
        "$$\\frac{a_{0} eps}{560} + \\frac{a_{1} eps^{2}}{504} + \\frac{a_{1}}{5040}$$"
       ],
       "metadata": {},
       "output_type": "display_data",
       "png": "[encoded data removed]",
       "text": [
        "               2       \n",
        "a\u2080\u22c5eps   a\u2081\u22c5eps     a\u2081 \n",
        "\u2500\u2500\u2500\u2500\u2500\u2500 + \u2500\u2500\u2500\u2500\u2500\u2500\u2500 + \u2500\u2500\u2500\u2500\n",
        " 560       504     5040"
       ]
      },
      {
       "metadata": {},
       "output_type": "display_data",
       "text": [
        "'asol'"
       ]
      },
      {
       "metadata": {},
       "output_type": "display_data",
       "text": [
        "array([a_0, a_1, a_0/2, a_0*eps/6 + a_1/6, a_0/24 + a_1*eps/12,\n",
        "       a_0*eps/30 + a_1/120, a_0*eps**2/180 + a_0/720 + a_1*eps/120,\n",
        "       a_0*eps/560 + a_1*eps**2/504 + a_1/5040], dtype=object)"
       ]
      }
     ],
     "prompt_number": 11
    },
    {
     "cell_type": "markdown",
     "metadata": {},
     "source": [
      "Let's see what the solution looks like now. We will define ysol(t) to be the eight term, seventh order polynomial we have found:"
     ]
    },
    {
     "cell_type": "code",
     "collapsed": false,
     "input": [
      "ysol = sum( asol[i] * t**i\n",
      "         for i in range(deg) )\n",
      "\n",
      "y0 = ysol.subs(a[1],0)\n",
      "#print \"y0\",y0\n",
      "y1 = ysol.subs(a[0],0)\n",
      "#print \"y1\",y1\n",
      "display(\"ysol\",ysol)"
     ],
     "language": "python",
     "metadata": {},
     "outputs": [
      {
       "metadata": {},
       "output_type": "display_data",
       "text": [
        "'ysol'"
       ]
      },
      {
       "latex": [
        "$$\\frac{a_{0} t^{2}}{2} + a_{0} + a_{1} t + t^{7} \\left(\\frac{a_{0} eps}{560} + \\frac{a_{1} eps^{2}}{504} + \\frac{a_{1}}{5040}\\right) + t^{6} \\left(\\frac{a_{0} eps^{2}}{180} + \\frac{a_{0}}{720} + \\frac{a_{1} eps}{120}\\right) + t^{5} \\left(\\frac{a_{0} eps}{30} + \\frac{a_{1}}{120}\\right) + t^{4} \\left(\\frac{a_{0}}{24} + \\frac{a_{1} eps}{12}\\right) + t^{3} \\left(\\frac{a_{0} eps}{6} + \\frac{a_{1}}{6}\\right)$$"
       ],
       "metadata": {},
       "output_type": "display_data",
       "png": "[encoded data removed]",
       "text": [
        "    2                  \u239b               2       \u239e      \u239b      2               \u239e\n",
        "a\u2080\u22c5t                 7 \u239ca\u2080\u22c5eps   a\u2081\u22c5eps     a\u2081 \u239f    6 \u239ca\u2080\u22c5eps     a\u2080   a\u2081\u22c5eps\u239f\n",
        "\u2500\u2500\u2500\u2500\u2500 + a\u2080 + a\u2081\u22c5t + t \u22c5\u239c\u2500\u2500\u2500\u2500\u2500\u2500 + \u2500\u2500\u2500\u2500\u2500\u2500\u2500 + \u2500\u2500\u2500\u2500\u239f + t \u22c5\u239c\u2500\u2500\u2500\u2500\u2500\u2500\u2500 + \u2500\u2500\u2500 + \u2500\u2500\u2500\u2500\u2500\u2500\u239f\n",
        "  2                    \u239d 560       504     5040\u23a0      \u239d  180     720    120  \u23a0\n",
        "\n",
        "                                                          \n",
        "    5 \u239ba\u2080\u22c5eps    a\u2081\u239e    4 \u239ba\u2080   a\u2081\u22c5eps\u239e    3 \u239ba\u2080\u22c5eps   a\u2081\u239e\n",
        " + t \u22c5\u239c\u2500\u2500\u2500\u2500\u2500\u2500 + \u2500\u2500\u2500\u239f + t \u22c5\u239c\u2500\u2500 + \u2500\u2500\u2500\u2500\u2500\u2500\u239f + t \u22c5\u239c\u2500\u2500\u2500\u2500\u2500\u2500 + \u2500\u2500\u239f\n",
        "      \u239d  30     120\u23a0      \u239d24     12  \u23a0      \u239d  6      6 \u23a0"
       ]
      }
     ],
     "prompt_number": 12
    },
    {
     "cell_type": "heading",
     "level": 5,
     "metadata": {},
     "source": [
      "Plotting The Results"
     ]
    },
    {
     "cell_type": "code",
     "collapsed": false,
     "input": [
      "## Plotting The Results\n",
      "%matplotlib inline\n",
      "import matplotlib.pyplot as plt\n",
      "import numpy as np\n",
      "x_t = np.linspace(0, 7, 50)\n",
      "y_t = ysol.subs([(a[0],1),(a[1],-1),(eps,0.04)])\n",
      "f_t = lambdify(t, y_t,modules=['numpy'])\n"
     ],
     "language": "python",
     "metadata": {},
     "outputs": [],
     "prompt_number": 13
    },
    {
     "cell_type": "markdown",
     "metadata": {},
     "source": [
      "\u4ee5\u4e0a\u662f\u5728\u9032\u884c\u6e96\u5099\u5de5\u4f5c\uff0c\u5176\u4e2d \"%matplotlib inline\" \u662f\u8b93matplotlib\u7522\u751f\u7684\u5716\u53ef\u4ee5\u5728ipython notebook\u4e2d\u986f\u793a\u3002\n",
      "\u4ee5\u4e0b\u958b\u59cb\u756b\u5716\uff0c\u8a2d\u5b9a\u8981\u756b\u7684\u7684x,y\u6578\u64dalist....\uff0c\u6700\u5f8c\u7684 \"plt.show()\" \u624d\u6703\u7522\u751f\u5716"
     ]
    },
    {
     "cell_type": "code",
     "collapsed": false,
     "input": [
      "plt.plot(x_t,f_t(x_t)) \n",
      "#\n",
      "#    # \u8a2d\u5b9a\u5716\u7684\u7bc4\u570d, \u4e0d\u8a2d\u7684\u8a71\uff0c\u7cfb\u7d71\u6703\u81ea\u884c\u6c7a\u5b9a\n",
      "plt.xlim(0,7) \n",
      "plt.ylim(-1,5)\n",
      "#    # \u7167\u9700\u8981\u5beb\u5165x \u8ef8\u548cy\u8ef8\u7684 label \u4ee5\u53catitle\n",
      "#\n",
      "plt.xlabel(\"x-axis\")   \n",
      "plt.ylabel(\"y-axis\")   \n",
      "plt.title(\"Power Series Solution\") \n",
      "#    # \u5728\u9019\u500b\u6307\u4ee4\u4e4b\u524d\uff0c\u90fd\u9084\u5728\u505a\u756b\u5716\u7684\u52d5\u4f5c \n",
      "#    # \u9019\u500b\u6307\u4ee4\u7b97\u662f \"\u79c0\u5716\" \n",
      "plt.show() "
     ],
     "language": "python",
     "metadata": {},
     "outputs": [
      {
       "metadata": {},
       "output_type": "display_data",
       "png": "[encoded data removed]",
       "text": [
        "<matplotlib.figure.Figure at 0x49d5350>"
       ]
      }
     ],
     "prompt_number": 14
    },
    {
     "cell_type": "heading",
     "level": 2,
     "metadata": {},
     "source": [
      "Perturbation Solution"
     ]
    },
    {
     "cell_type": "markdown",
     "metadata": {},
     "source": [
      "\u5728\u9019\u500b\u5c0f\u7bc0\uff0c\u6211\u5011\u5c07\u4f7f\u7528regular perturbation theory\u89e3\u524d\u8ff0\u5fae\u5206\u65b9\u7a0b\u3002\u9996\u5148\u6211\u5011\u5c07u0\u3001u1\u3001u2\u90fd\u8a2d\u6210\u51fd\u6578\uff08symbolic)\uff0c\u540c\u6642\u5c07perturbed solution, ut\u4ee3\u5165\u65b9\u7a0b\u5f0f"
     ]
    },
    {
     "cell_type": "code",
     "collapsed": false,
     "input": [
      "u0 = Function('u0')\n",
      "u1 = Function('u1')\n",
      "u2 = Function('u2')\n",
      "ut = Function('ut')\n",
      "ut = u0(t)+eps*u1(t)+eps**2*u2(t)\n",
      "\n",
      "display(ut)\n",
      "eqpert = diff(ut,t,t)-ut-eps*t*ut \n",
      "display(eqpert)"
     ],
     "language": "python",
     "metadata": {},
     "outputs": [
      {
       "latex": [
        "$$eps^{2} \\operatorname{u_{2}}{\\left (t \\right )} + eps \\operatorname{u_{1}}{\\left (t \\right )} + \\operatorname{u_{0}}{\\left (t \\right )}$$"
       ],
       "metadata": {},
       "output_type": "display_data",
       "png": "[encoded data removed]",
       "text": [
        "   2                          \n",
        "eps \u22c5u\u2082(t) + eps\u22c5u\u2081(t) + u\u2080(t)"
       ]
      },
      {
       "latex": [
        "$$- eps^{2} \\operatorname{u_{2}}{\\left (t \\right )} + eps^{2} \\frac{d^{2}}{d t^{2}}  \\operatorname{u_{2}}{\\left (t \\right )} - eps t \\left(eps^{2} \\operatorname{u_{2}}{\\left (t \\right )} + eps \\operatorname{u_{1}}{\\left (t \\right )} + \\operatorname{u_{0}}{\\left (t \\right )}\\right) - eps \\operatorname{u_{1}}{\\left (t \\right )} + eps \\frac{d^{2}}{d t^{2}}  \\operatorname{u_{1}}{\\left (t \\right )} - \\operatorname{u_{0}}{\\left (t \\right )} + \\frac{d^{2}}{d t^{2}}  \\operatorname{u_{0}}{\\left (t \\right )}$$"
       ],
       "metadata": {},
       "output_type": "display_data",
       "png": "[encoded data removed]",
       "text": [
        "                      2                                                       \n",
        "     2            2  d                 \u239b   2                          \u239e       \n",
        "- eps \u22c5u\u2082(t) + eps \u22c5\u2500\u2500\u2500(u\u2082(t)) - eps\u22c5t\u22c5\u239deps \u22c5u\u2082(t) + eps\u22c5u\u2081(t) + u\u2080(t)\u23a0 - eps\u22c5\n",
        "                      2                                                       \n",
        "                    dt                                                        \n",
        "\n",
        "              2                    2       \n",
        "             d                    d        \n",
        "u\u2081(t) + eps\u22c5\u2500\u2500\u2500(u\u2081(t)) - u\u2080(t) + \u2500\u2500\u2500(u\u2080(t))\n",
        "              2                    2       \n",
        "            dt                   dt        "
       ]
      }
     ],
     "prompt_number": 15
    },
    {
     "cell_type": "markdown",
     "metadata": {},
     "source": [
      "To get the zeroth order perturbation equation we just substitute  epsilon = 0 into the governing equation and save the result as the variable eqp0:"
     ]
    },
    {
     "cell_type": "code",
     "collapsed": false,
     "input": [
      "eqp0 = eqpert.subs(eps,0)\n",
      "display(\"leading term:\",eqp0)"
     ],
     "language": "python",
     "metadata": {},
     "outputs": [
      {
       "metadata": {},
       "output_type": "display_data",
       "text": [
        "'leading term:'"
       ]
      },
      {
       "latex": [
        "$$- \\operatorname{u_{0}}{\\left (t \\right )} + \\frac{d^{2}}{d t^{2}}  \\operatorname{u_{0}}{\\left (t \\right )}$$"
       ],
       "metadata": {},
       "output_type": "display_data",
       "png": "[encoded data removed]",
       "text": [
        "           2       \n",
        "          d        \n",
        "-u\u2080(t) + \u2500\u2500\u2500(u\u2080(t))\n",
        "           2       \n",
        "         dt        "
       ]
      }
     ],
     "prompt_number": 16
    },
    {
     "cell_type": "markdown",
     "metadata": {},
     "source": [
      "To get the first order (in  epsilon ) equation we can take the first derivative of eqpert, with respect to  epsilon , and substitute  epsilon = 0 into the result to give the first order perturbation equation, which we will save as a variable `epq1'."
     ]
    },
    {
     "cell_type": "code",
     "collapsed": false,
     "input": [
      "eqp1 = diff(eqpert,eps).subs(eps,0)\n",
      "display(\"first order:\",eqp1)"
     ],
     "language": "python",
     "metadata": {},
     "outputs": [
      {
       "metadata": {},
       "output_type": "display_data",
       "text": [
        "'first order:'"
       ]
      },
      {
       "latex": [
        "$$- t \\operatorname{u_{0}}{\\left (t \\right )} - \\operatorname{u_{1}}{\\left (t \\right )} + \\frac{d^{2}}{d t^{2}}  \\operatorname{u_{1}}{\\left (t \\right )}$$"
       ],
       "metadata": {},
       "output_type": "display_data",
       "png": "[encoded data removed]",
       "text": [
        "                     2       \n",
        "                    d        \n",
        "-t\u22c5u\u2080(t) - u\u2081(t) + \u2500\u2500\u2500(u\u2081(t))\n",
        "                     2       \n",
        "                   dt        "
       ]
      }
     ],
     "prompt_number": 17
    },
    {
     "cell_type": "markdown",
     "metadata": {},
     "source": [
      "Now the beat roles on; to find the second order equation we take two derivatives and evaluate at  epsilon = 0 ; the factor of 1/2 is just because of the division by 2 factorial in the Maclaurin expansion."
     ]
    },
    {
     "cell_type": "code",
     "collapsed": false,
     "input": [
      "eqp2 = diff(eqpert,eps,eps).subs(eps,0)\n",
      "display(\"Second order:\",eqp2)"
     ],
     "language": "python",
     "metadata": {},
     "outputs": [
      {
       "metadata": {},
       "output_type": "display_data",
       "text": [
        "'Second order:'"
       ]
      },
      {
       "latex": [
        "$$- 2 t \\operatorname{u_{1}}{\\left (t \\right )} - 2 \\operatorname{u_{2}}{\\left (t \\right )} + 2 \\frac{d^{2}}{d t^{2}}  \\operatorname{u_{2}}{\\left (t \\right )}$$"
       ],
       "metadata": {},
       "output_type": "display_data",
       "png": "[encoded data removed]",
       "text": [
        "                           2       \n",
        "                          d        \n",
        "-2\u22c5t\u22c5u\u2081(t) - 2\u22c5u\u2082(t) + 2\u22c5\u2500\u2500\u2500(u\u2082(t))\n",
        "                           2       \n",
        "                         dt        "
       ]
      }
     ],
     "prompt_number": 18
    },
    {
     "cell_type": "markdown",
     "metadata": {},
     "source": [
      "Knowing the perturbation equations we can begin to determine the solutions. Using the command dsolve to solve the zeroth order equation gives a general solution"
     ]
    },
    {
     "cell_type": "code",
     "collapsed": false,
     "input": [
      "from sympy import dsolve\n",
      "dsolve(eqp0,u0(t))"
     ],
     "language": "python",
     "metadata": {},
     "outputs": [
      {
       "latex": [
        "$$\\operatorname{u_{0}}{\\left (t \\right )} = C_{1} e^{- t} + C_{2} e^{t}$$"
       ],
       "metadata": {},
       "output_type": "pyout",
       "png": "[encoded data removed]",
       "prompt_number": 19,
       "text": [
        "            -t       t\n",
        "u\u2080(t) = C\u2081\u22c5\u212f   + C\u2082\u22c5\u212f "
       ]
      }
     ],
     "prompt_number": 19
    },
    {
     "cell_type": "markdown",
     "metadata": {},
     "source": [
      "Manually solve the equation with initial conditions, $u0(0)=1$, $u0'(0)=-1$ and we have"
     ]
    },
    {
     "cell_type": "code",
     "collapsed": false,
     "input": [
      "C1,C2 = symbols('C1 C2')\n",
      "u0g = C1*exp(t) + C2*exp(-t)\n",
      "coef=solve([Eq(u0g.subs(t,0),1),Eq(diff(u0g,t).subs(t,0),-1)],[C1,C2])\n",
      "u0sol = u0g.subs([(C1,coef.get(C1)),(C2,coef.get(C2))])\n",
      "display(\"u0sol\",u0sol)"
     ],
     "language": "python",
     "metadata": {},
     "outputs": [
      {
       "metadata": {},
       "output_type": "display_data",
       "text": [
        "'u0sol'"
       ]
      },
      {
       "latex": [
        "$$e^{- t}$$"
       ],
       "metadata": {},
       "output_type": "display_data",
       "png": "[encoded data removed]",
       "text": [
        " -t\n",
        "\u212f  "
       ]
      }
     ],
     "prompt_number": 20
    },
    {
     "cell_type": "markdown",
     "metadata": {},
     "source": [
      "At the next order, solving for the first correction term, $u1(t)$, generates the following function:"
     ]
    },
    {
     "cell_type": "code",
     "collapsed": false,
     "input": [
      "dsolve(eqp1.subs(u0(t),u0sol),u1(t))"
     ],
     "language": "python",
     "metadata": {},
     "outputs": [
      {
       "latex": [
        "$$\\operatorname{u_{1}}{\\left (t \\right )} = C_{2} e^{t} + \\left(C_{1} - \\frac{t^{2}}{4} - \\frac{t}{4}\\right) e^{- t}$$"
       ],
       "metadata": {},
       "output_type": "pyout",
       "png": "[encoded data removed]",
       "prompt_number": 21,
       "text": [
        "                \u239b      2    \u239e    \n",
        "            t   \u239c     t    t\u239f  -t\n",
        "u\u2081(t) = C\u2082\u22c5\u212f  + \u239cC\u2081 - \u2500\u2500 - \u2500\u239f\u22c5\u212f  \n",
        "                \u239d     4    4\u23a0    "
       ]
      }
     ],
     "prompt_number": 21
    },
    {
     "cell_type": "markdown",
     "metadata": {},
     "source": [
      "Since the initial conditions are included previously, the initial data will be zero."
     ]
    },
    {
     "cell_type": "code",
     "collapsed": false,
     "input": [
      "u1g = C1*exp(t) + (C2 - t**2/4 - t/4)*exp(-t)\n",
      "coef=solve([Eq(u1g.subs(t,0),0),Eq(diff(u1g,t).subs(t,0),0)],[C1,C2])\n",
      "u1sol = u1g.subs([(C1,coef.get(C1)),(C2,coef.get(C2))])\n",
      "display(\"u1sol\",u1sol)"
     ],
     "language": "python",
     "metadata": {},
     "outputs": [
      {
       "metadata": {},
       "output_type": "display_data",
       "text": [
        "'u1sol'"
       ]
      },
      {
       "latex": [
        "$$\\left(- \\frac{t^{2}}{4} - \\frac{t}{4} - \\frac{1}{8}\\right) e^{- t} + \\frac{e^{t}}{8}$$"
       ],
       "metadata": {},
       "output_type": "display_data",
       "png": "[encoded data removed]",
       "text": [
        "\u239b   2        \u239e        t\n",
        "\u239c  t    t   1\u239f  -t   \u212f \n",
        "\u239c- \u2500\u2500 - \u2500 - \u2500\u239f\u22c5\u212f   + \u2500\u2500\n",
        "\u239d  4    4   8\u23a0       8 "
       ]
      }
     ],
     "prompt_number": 22
    },
    {
     "cell_type": "markdown",
     "metadata": {},
     "source": [
      "Solving for the second order correction (that is, order  $\\epsilon^2$ ) gives the kind of function that makes us happy to be using Sympy:"
     ]
    },
    {
     "cell_type": "code",
     "collapsed": false,
     "input": [
      "dsolve(eqp2.subs(u1(t),u1sol),u2(t))"
     ],
     "language": "python",
     "metadata": {},
     "outputs": [
      {
       "latex": [
        "$$\\operatorname{u_{2}}{\\left (t \\right )} = \\left(C_{1} + \\frac{t^{2}}{32} - \\frac{t}{32}\\right) e^{t} + \\left(C_{2} + \\frac{t^{4}}{32} + \\frac{5 t^{3}}{48} + \\frac{3 t^{2}}{16} + \\frac{3 t}{16}\\right) e^{- t}$$"
       ],
       "metadata": {},
       "output_type": "pyout",
       "png": "[encoded data removed]",
       "prompt_number": 23,
       "text": [
        "        \u239b      2     \u239e      \u239b      4      3      2      \u239e    \n",
        "        \u239c     t    t \u239f  t   \u239c     t    5\u22c5t    3\u22c5t    3\u22c5t\u239f  -t\n",
        "u\u2082(t) = \u239cC\u2081 + \u2500\u2500 - \u2500\u2500\u239f\u22c5\u212f  + \u239cC\u2082 + \u2500\u2500 + \u2500\u2500\u2500\u2500 + \u2500\u2500\u2500\u2500 + \u2500\u2500\u2500\u239f\u22c5\u212f  \n",
        "        \u239d     32   32\u23a0      \u239d     32    48     16     16\u23a0    "
       ]
      }
     ],
     "prompt_number": 23
    },
    {
     "cell_type": "markdown",
     "metadata": {},
     "source": [
      "Since the initial conditions are included previously, the initial data will be zero."
     ]
    },
    {
     "cell_type": "code",
     "collapsed": false,
     "input": [
      "u2g = (C1 + t**2/32 - t/32)*exp(t) + (C2 + t**4/32 + 5*t**3/48 + 3*t**2/16 + 3*t/16)*exp(-t)\n",
      "coef=solve([Eq(u2g.subs(t,0),0),Eq(diff(u2g,t).subs(t,0),0)],[C1,C2])\n",
      "u2sol = u2g.subs([(C1,coef.get(C1)),(C2,coef.get(C2))])\n",
      "display(\"u2sol\",u2sol)"
     ],
     "language": "python",
     "metadata": {},
     "outputs": [
      {
       "metadata": {},
       "output_type": "display_data",
       "text": [
        "'u2sol'"
       ]
      },
      {
       "latex": [
        "$$\\left(\\frac{t^{2}}{32} - \\frac{t}{32} - \\frac{5}{64}\\right) e^{t} + \\left(\\frac{t^{4}}{32} + \\frac{5 t^{3}}{48} + \\frac{3 t^{2}}{16} + \\frac{3 t}{16} + \\frac{5}{64}\\right) e^{- t}$$"
       ],
       "metadata": {},
       "output_type": "display_data",
       "png": "[encoded data removed]",
       "text": [
        "\u239b 2          \u239e      \u239b 4      3      2           \u239e    \n",
        "\u239ct    t    5 \u239f  t   \u239ct    5\u22c5t    3\u22c5t    3\u22c5t   5 \u239f  -t\n",
        "\u239c\u2500\u2500 - \u2500\u2500 - \u2500\u2500\u239f\u22c5\u212f  + \u239c\u2500\u2500 + \u2500\u2500\u2500\u2500 + \u2500\u2500\u2500\u2500 + \u2500\u2500\u2500 + \u2500\u2500\u239f\u22c5\u212f  \n",
        "\u239d32   32   64\u23a0      \u239d32    48     16     16   64\u23a0    "
       ]
      }
     ],
     "prompt_number": 24
    },
    {
     "cell_type": "markdown",
     "metadata": {},
     "source": [
      "These solutions can now be substituted back into the original perturbation ansatz to give our approximate asymptotic solution"
     ]
    },
    {
     "cell_type": "code",
     "collapsed": false,
     "input": [
      "upert = ut.subs([(u0(t),u0sol),(u1(t),u1sol),(u2(t),u2sol)])\n",
      "display(\"Solution\",upert)"
     ],
     "language": "python",
     "metadata": {},
     "outputs": [
      {
       "metadata": {},
       "output_type": "display_data",
       "text": [
        "'Solution'"
       ]
      },
      {
       "latex": [
        "$$eps^{2} \\left(\\left(\\frac{t^{2}}{32} - \\frac{t}{32} - \\frac{5}{64}\\right) e^{t} + \\left(\\frac{t^{4}}{32} + \\frac{5 t^{3}}{48} + \\frac{3 t^{2}}{16} + \\frac{3 t}{16} + \\frac{5}{64}\\right) e^{- t}\\right) + eps \\left(\\left(- \\frac{t^{2}}{4} - \\frac{t}{4} - \\frac{1}{8}\\right) e^{- t} + \\frac{e^{t}}{8}\\right) + e^{- t}$$"
       ],
       "metadata": {},
       "output_type": "display_data",
       "png": "[encoded data removed]",
       "text": [
        "     \u239b\u239b 2          \u239e      \u239b 4      3      2           \u239e    \u239e       \u239b\u239b   2     \n",
        "   2 \u239c\u239ct    t    5 \u239f  t   \u239ct    5\u22c5t    3\u22c5t    3\u22c5t   5 \u239f  -t\u239f       \u239c\u239c  t    t \n",
        "eps \u22c5\u239c\u239c\u2500\u2500 - \u2500\u2500 - \u2500\u2500\u239f\u22c5\u212f  + \u239c\u2500\u2500 + \u2500\u2500\u2500\u2500 + \u2500\u2500\u2500\u2500 + \u2500\u2500\u2500 + \u2500\u2500\u239f\u22c5\u212f  \u239f + eps\u22c5\u239c\u239c- \u2500\u2500 - \u2500 \n",
        "     \u239d\u239d32   32   64\u23a0      \u239d32    48     16     16   64\u23a0    \u23a0       \u239d\u239d  4    4 \n",
        "\n",
        "   \u239e        t\u239e      \n",
        "  1\u239f  -t   \u212f \u239f    -t\n",
        "- \u2500\u239f\u22c5\u212f   + \u2500\u2500\u239f + \u212f  \n",
        "  8\u23a0       8 \u23a0      "
       ]
      }
     ],
     "prompt_number": 25
    },
    {
     "cell_type": "markdown",
     "metadata": {},
     "source": [
      "\u5e95\u4e0b\u662fPerturbation Solution\u7684\u5716\u5f62\uff0c\u7e6a\u5716\u904e\u7a0b\u542b\u524d\u9762\u7d1a\u6578\u89e3\u7684\u90e8\u4efd\u76f8\u540c\u3002"
     ]
    },
    {
     "cell_type": "code",
     "collapsed": false,
     "input": [
      "x_pert = np.linspace(0, 7, 50)\n",
      "y_pert = upert.subs([(eps,0.04)])\n",
      "f_pert = lambdify(t, y_pert,modules=['numpy'])\n",
      "plt.plot(x_pert,f_pert(x_pert)) \n",
      "#\n",
      "#    # \u8a2d\u5b9a\u5716\u7684\u7bc4\u570d, \u4e0d\u8a2d\u7684\u8a71\uff0c\u7cfb\u7d71\u6703\u81ea\u884c\u6c7a\u5b9a\n",
      "plt.xlim(0,7) \n",
      "plt.ylim(-1,5)\n",
      "#    # \u7167\u9700\u8981\u5beb\u5165x \u8ef8\u548cy\u8ef8\u7684 label \u4ee5\u53catitle\n",
      "#\n",
      "plt.xlabel(\"x-axis\")   \n",
      "plt.ylabel(\"y-axis\")   \n",
      "plt.title(\"Perturbation Solution\") \n",
      "#    # \u5728\u9019\u500b\u6307\u4ee4\u4e4b\u524d\uff0c\u90fd\u9084\u5728\u505a\u756b\u5716\u7684\u52d5\u4f5c \n",
      "#    # \u9019\u500b\u6307\u4ee4\u7b97\u662f \"\u79c0\u5716\" \n",
      "plt.show() "
     ],
     "language": "python",
     "metadata": {},
     "outputs": [
      {
       "metadata": {},
       "output_type": "display_data",
       "png": "[encoded data removed]",
       "text": [
        "<matplotlib.figure.Figure at 0x57545d0>"
       ]
      }
     ],
     "prompt_number": 26
    },
    {
     "cell_type": "heading",
     "level": 2,
     "metadata": {},
     "source": [
      "Numerical Solution"
     ]
    },
    {
     "cell_type": "markdown",
     "metadata": {},
     "source": [
      "\u5728\u9019\u500b\u5c0f\u7bc0\uff0c\u6211\u5011\u5c07\u4ee5scipy\u6a21\u7d44\uff0c\u4ee5\u6578\u503c\u65b9\u6cd5\u5c0d\u5fae\u5206\u65b9\u7a0b\u6c42\u89e3\u3002\u4f5c\u6cd5\u662f\u5148\u5b9a\u7fa9\u4e00\u51fd\u6578(un)\u8868\u793afirst order\u5fae\u5206\u65b9\u7a0b\u7cfb\u7d71\uff0c\u4e4b\u5f8c\u518d\u4ee5odeint\u6578\u503c\u7a4d\u5206\uff1a"
     ]
    },
    {
     "cell_type": "code",
     "collapsed": false,
     "input": [
      "from scipy.integrate import odeint\n",
      "\n",
      "epsilon = 0.04\n",
      "\n",
      "def un(z,tt):\n",
      "    x,y=z[0],z[1]\n",
      "    dxdt= y\n",
      "    dydt= (1.0+epsilon*tt)*x\n",
      "    return [dxdt,dydt]\n",
      "\n",
      "tt=np.linspace(0, 7, 1000)\n",
      "x0,y0=1.0,-1.0\n",
      "sol=odeint(un,[x0,y0],tt)\n",
      "Xn,Yn=sol[:,0],sol[:,1]\n",
      "plt.plot(tt,Xn)\n",
      "plt.show() "
     ],
     "language": "python",
     "metadata": {},
     "outputs": [
      {
       "metadata": {},
       "output_type": "display_data",
       "png": "[encoded data removed]",
       "text": [
        "<matplotlib.figure.Figure at 0x5907450>"
       ]
      }
     ],
     "prompt_number": 27
    },
    {
     "cell_type": "heading",
     "level": 4,
     "metadata": {},
     "source": [
      "Solve the perturbed ODE using dsolve"
     ]
    },
    {
     "cell_type": "markdown",
     "metadata": {},
     "source": [
      "\u6211\u5011\u53ef\u4ee5\u8a66\u8457\u76f4\u63a5\u4ee5dsolve\u5c0d\u5fae\u5206\u65b9\u7a0b\u6c42\u89e3"
     ]
    },
    {
     "cell_type": "code",
     "collapsed": false,
     "input": [
      "uh = Function('uh')\n",
      "meqpert = diff(uh(t),t,t)-uh(t)-eps*t*uh(t)\n",
      "display(meqpert)\n",
      "dsolve(meqpert,uh(t))"
     ],
     "language": "python",
     "metadata": {},
     "outputs": [
      {
       "latex": [
        "$$- eps t \\operatorname{uh}{\\left (t \\right )} - \\operatorname{uh}{\\left (t \\right )} + \\frac{d^{2}}{d t^{2}}  \\operatorname{uh}{\\left (t \\right )}$$"
       ],
       "metadata": {},
       "output_type": "display_data",
       "png": "[encoded data removed]",
       "text": [
        "                         2       \n",
        "                        d        \n",
        "-eps\u22c5t\u22c5uh(t) - uh(t) + \u2500\u2500\u2500(uh(t))\n",
        "                         2       \n",
        "                       dt        "
       ]
      },
      {
       "latex": [
        "$$\\operatorname{uh}{\\left (t \\right )} = C_{2} \\left(\\frac{eps^{2} t^{8}}{24} + \\frac{eps t^{7}}{24} + \\frac{eps t^{5}}{24} + \\frac{eps t^{3}}{2} + \\frac{t^{4}}{24} + \\frac{t^{2}}{2} + 1\\right) + C_{1} t \\left(\\frac{eps t^{4}}{6} + \\frac{t^{2}}{6} + 1\\right) + \\mathcal{O}\\left(t^{6}\\right)$$"
       ],
       "metadata": {},
       "output_type": "pyout",
       "png": "[encoded data removed]",
       "prompt_number": 28,
       "text": [
        "           \u239b   2  8        7        5        3    4    2    \u239e        \u239b     4  \n",
        "           \u239ceps \u22c5t    eps\u22c5t    eps\u22c5t    eps\u22c5t    t    t     \u239f        \u239ceps\u22c5t   \n",
        "uh(t) = C\u2082\u22c5\u239c\u2500\u2500\u2500\u2500\u2500\u2500\u2500 + \u2500\u2500\u2500\u2500\u2500\u2500 + \u2500\u2500\u2500\u2500\u2500\u2500 + \u2500\u2500\u2500\u2500\u2500\u2500 + \u2500\u2500 + \u2500\u2500 + 1\u239f + C\u2081\u22c5t\u22c5\u239c\u2500\u2500\u2500\u2500\u2500\u2500 +\n",
        "           \u239d   24       24       24       2      24   2     \u23a0        \u239d  6     \n",
        "\n",
        "  2    \u239e        \n",
        " t     \u239f    \u239b 6\u239e\n",
        " \u2500\u2500 + 1\u239f + O\u239dt \u23a0\n",
        " 6     \u23a0        "
       ]
      }
     ],
     "prompt_number": 28
    },
    {
     "cell_type": "markdown",
     "metadata": {},
     "source": [
      "\u7531\u65bcsympy\u7121\u6cd5\u5f97\u5230closed-form solution\uff0c\u6240\u4ee5dsolve\u61c9\u8a72\u662f\u4ee5\u7d1a\u6578\u89e3\u6c42\u89e3"
     ]
    },
    {
     "cell_type": "heading",
     "level": 2,
     "metadata": {},
     "source": [
      "Comparing the Three Results"
     ]
    },
    {
     "cell_type": "markdown",
     "metadata": {},
     "source": [
      "Now we are in position to show all three graphs calculated above on one set of axes. Here we will plot the results for t running from 0 to 7 (as above) and set the horizontal window to display between -1 and 5. Also we will label the axes to get full style points from our professor."
     ]
    },
    {
     "cell_type": "code",
     "collapsed": false,
     "input": [
      "# Power Series Solution\n",
      "plt.plot(x_t,f_t(x_t),'y.-') \n",
      "#Perturbation Solution\n",
      "plt.plot(x_pert,f_pert(x_pert),'ro-')\n",
      "#Numerical Solution\n",
      "plt.plot(tt,Xn,'b-') \n",
      "#\n",
      "#    # \u8a2d\u5b9a\u5716\u7684\u7bc4\u570d, \u4e0d\u8a2d\u7684\u8a71\uff0c\u7cfb\u7d71\u6703\u81ea\u884c\u6c7a\u5b9a\n",
      "plt.xlim(0,7) \n",
      "plt.ylim(-1,5)\n",
      "#    # \u7167\u9700\u8981\u5beb\u5165x \u8ef8\u548cy\u8ef8\u7684 label \u4ee5\u53catitle\n",
      "#\n",
      "plt.xlabel(\"x-axis\")   \n",
      "plt.ylabel(\"y-axis\")   \n",
      "plt.title(\"Solution\") \n",
      "plt.show() "
     ],
     "language": "python",
     "metadata": {},
     "outputs": [
      {
       "metadata": {},
       "output_type": "display_data",
       "png": "[encoded data removed]",
       "text": [
        "<matplotlib.figure.Figure at 0x651f9d0>"
       ]
      }
     ],
     "prompt_number": 29
    },
    {
     "cell_type": "markdown",
     "metadata": {},
     "source": [
      "In the graph above the color blue denotes the numerical solution, the color green denotes the perturbation series solution, and the color red denotes the power series (polynomial in t) solution. All three agree rather well up to t=2.4, after which the polynomial solution diverges drastically. By comparison, the the asymptotic perturbation solution is basically indistinguishable until after t=5 or so, and even after that it is still behaving properly!"
     ]
    },
    {
     "cell_type": "code",
     "collapsed": false,
     "input": [],
     "language": "python",
     "metadata": {},
     "outputs": [],
     "prompt_number": 29
    },
    {
     "cell_type": "markdown",
     "metadata": {},
     "source": [
      "<li> iPython \u7684 Notebook\u53ef\u4ee5\u53c3\u8003\uff1a\n",
      "http://yenlungblog.wordpress.com/2013/11/21/python-ipython-%E7%9A%84-notebook-%E7%95%8C%E9%9D%A2/</li>\n",
      "<li> sympy\u53ef\u4ee5\u53c3\u8003\uff1a\n",
      "http://www.gtwang.org/2012/12/sympy1.html </li>\n",
      "<li> \u7e6a\u5716\u6307\u4ee4\u8acb\u53c3\u8003\uff1a\n",
      "http://onionys.blogspot.tw/2012/01/python-matplotlib.html </li>\n",
      "<li>\u66f4\u591a\u7684matplotlib\uff1a\n",
      "    http://nbviewer.ipython.org/github/c3h3/NCCU-PyData-Courses-2013Spring/blob/master/Lecture4/visualization/BasicMatplotlib.ipynb</li>\n",
      "<li> \u65bcwindow\u4e2d\u5b89\u88ddpython\u8acb\u53c3\u8003\uff1a\n",
      "http://nbviewer.ipython.org/github/ycshu/Github/blob/master/introduction.ipynb </li>"
     ]
    },
    {
     "cell_type": "code",
     "collapsed": false,
     "input": [],
     "language": "python",
     "metadata": {},
     "outputs": [],
     "prompt_number": 29
    }
   ],
   "metadata": {}
  }
 ]
}
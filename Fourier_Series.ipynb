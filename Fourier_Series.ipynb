{
 "metadata": {
  "name": "",
  "signature": "sha256:84d1b59ad5dacd406e5247e13d03a8cf43c42a0a18a348fb09492cea9f63bb3b"
 },
 "nbformat": 3,
 "nbformat_minor": 0,
 "worksheets": [
  {
   "cells": [
    {
     "cell_type": "code",
     "collapsed": false,
     "input": [
      "import matplotlib.pyplot as plt\n",
      "from matplotlib.widgets import Slider\n",
      "import numpy as np\n",
      "%matplotlib inline\n",
      "list_ = []\n",
      "\n",
      "x = np.linspace(0,25,1000) # grid of x data\n",
      "\n",
      "def gen_list(phase): # Generating list of odd numbers for square wave function\n",
      "    odd_phase = 0\n",
      "    if phase % 2 == 0 and phase > 1: # If even phase\n",
      "        odd_phase = phase - 1\n",
      "        while odd_phase >= 0:\n",
      "            list_.append(odd_phase)\n",
      "            odd_phase = odd_phase - 2\n",
      "    elif phase % 2 != 0 and phase > 1: # If odd phase\n",
      "        odd_phase = phase\n",
      "        while odd_phase >= 0:\n",
      "            list_.append(odd_phase)\n",
      "            odd_phase = odd_phase - 2\n",
      "    elif phase == 1:\n",
      "        odd_phase = phase\n",
      "        list_.append(odd_phase)\n",
      "    return list_\n",
      "\n",
      "\n",
      "def add(x,phase): # The summation of the square wave function\n",
      "    term = 0\n",
      "    sum_ = 0\n",
      "    complete = 0\n",
      "\n",
      "    gen_list(phase)\n",
      "\n",
      "    for k in list_:\n",
      "        term = (1.0 / k) * np.sin( (k*x) / 2.0) \n",
      "        sum_ = term + sum_ \n",
      "\n",
      "    complete = 4.0/np.pi * sum_\n",
      "    return complete\n",
      "\n",
      "### Set up the initial data:\n",
      "myphase = 1 # this variable will be controlled by slider\n",
      "y = add(x,myphase) # the function to plot       \n",
      "\n",
      "### Set up the initial plot:\n",
      "#ax = plt.subplot(111) # create new axes for 1 row, 1 column, plotnumber 1\n",
      "#                  # This is the default axis\n",
      "#plt.subplots_adjust(left=0.15, bottom=0.25) # make some more room at bottom and left\n",
      "\n",
      "plt.line, = plt.plot(x, y, linewidth=1, color='r') # nb use of comma\n",
      "plt.xlabel(\"x\")\n",
      "plt.ylabel(\"y(x)\")\n",
      "\n",
      "### define the sliders:\n",
      "#axcolor = 'lightgoldenrodyellow'\n",
      "## add axes (a subplot) in the space we made using subplots_adjust\n",
      "#ax_phase = plt.axes([0.15, 0.1, 0.65, 0.03], axisbg=axcolor)\n",
      "### ...and put a slider in it\n",
      "#slider_phase = Slider(ax_phase, 'phase', 1, 25, valfmt='%0.0f',valinit=(phase))\n",
      "\n",
      "#def update_phase(val):\n",
      "#    \"\"\"function to update the plot based on current slider_phase position\"\"\"\n",
      "#    phase = slider_phase.val # use slider position to set the phase\n",
      "#    y = add(x,phase)\n",
      "#    plt.line.set_ydata(y) # make a line of the new y data\n",
      "#    plt.draw() # redraw the plot.\n",
      "\n",
      "## if the slider posn is changed, update phase and recalculate\n",
      "#slider_phase.on_changed(update_phase)\n",
      "\n",
      "plt.show()"
     ],
     "language": "python",
     "metadata": {},
     "outputs": [
      {
       "metadata": {},
       "output_type": "display_data",
       "png": "[encoded data removed]",
       "text": [
        "<matplotlib.figure.Figure at 0x2958cd0>"
       ]
      }
     ],
     "prompt_number": 20
    },
    {
     "cell_type": "code",
     "collapsed": false,
     "input": [],
     "language": "python",
     "metadata": {},
     "outputs": [],
     "prompt_number": 19
    }
   ],
   "metadata": {}
  }
 ]
}